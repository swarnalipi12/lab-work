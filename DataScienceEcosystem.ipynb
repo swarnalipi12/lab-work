{
 "cells": [
  {
   "cell_type": "markdown",
   "id": "e949963e-df32-4d03-9fa8-10a5cc30bca8",
   "metadata": {},
   "source": [
    "# Data Science Tools and Ecosystem"
   ]
  },
  {
   "cell_type": "markdown",
   "id": "e7aca880-8f78-487a-bed3-e0d00f5a67ff",
   "metadata": {},
   "source": [
    "\"In this notebook, Data Science Tools and Ecosystem are summarized.\""
   ]
  },
  {
   "cell_type": "markdown",
   "id": "97939819-fed2-4a06-b2fd-6fabd8f557ee",
   "metadata": {
    "scrolled": true
   },
   "source": [
    "\"Some of the popular languages that Data Scientists use are:\"\n",
    "1. PYTHON\n",
    "2. R\n",
    "3. SQL\n",
    "4. JULIA\n",
    "5. SCALA"
   ]
  },
  {
   "cell_type": "markdown",
   "id": "88181836-90e2-4cb3-9510-7e9c3e5f9198",
   "metadata": {},
   "source": [
    "\"Some of the commonly used libraries used by Data Scientists include:\"\n",
    "1. NUMPY\n",
    "2. PANDAS\n",
    "3. MATPLOTLIB\n",
    "4. SCIKIT-LEARN\n"
   ]
  },
  {
   "cell_type": "markdown",
   "id": "b53ecae0-ba76-4a41-8198-88d7941d5723",
   "metadata": {},
   "source": [
    "|Data Science Tools|\n",
    "|-------------------|\n",
    "|matplotlib|\n",
    "|tableau|\n",
    "|jupyter notebook|\n",
    "|R|\n",
    "|excel|"
   ]
  },
  {
   "cell_type": "markdown",
   "id": "6636cbe2-af47-4952-90d1-8ba74b07f415",
   "metadata": {},
   "source": [
    "#arithmetic expression examples\n",
    "### Below are a few examples of evaluating arithmetic expressions in Python.\n"
   ]
  },
  {
   "cell_type": "code",
   "execution_count": 4,
   "id": "225dabc8-89d9-4589-ac08-c090d799a08c",
   "metadata": {},
   "outputs": [
    {
     "data": {
      "text/plain": [
       "17"
      ]
     },
     "execution_count": 4,
     "metadata": {},
     "output_type": "execute_result"
    }
   ],
   "source": [
    "# This a simple arithmetic expression to mutiply then add integers\n",
    "(3*4)+5"
   ]
  },
  {
   "cell_type": "code",
   "execution_count": 5,
   "id": "09d03c7d-f2b8-454e-8cf4-552a500d49b9",
   "metadata": {},
   "outputs": [
    {
     "data": {
      "text/plain": [
       "3.3333333333333335"
      ]
     },
     "execution_count": 5,
     "metadata": {},
     "output_type": "execute_result"
    }
   ],
   "source": [
    " #this will convert 200 minutes to hours by diving by 60\n",
    "200/60"
   ]
  },
  {
   "cell_type": "markdown",
   "id": "5d7efb30-5a1a-433b-967b-e477dbea5b55",
   "metadata": {},
   "source": [
    "# Objectives\n",
    "- R\n",
    "- jupyter notebook\n",
    "- tools for data science\n"
   ]
  },
  {
   "cell_type": "markdown",
   "id": "7169afc1-1ea0-4d60-8c9c-a723b3257f45",
   "metadata": {},
   "source": [
    "## Author\n",
    "\"swarnalipi sahu\""
   ]
  },
  {
   "cell_type": "code",
   "execution_count": null,
   "id": "785722e6-31fe-4a53-bc71-9b7f23f7d694",
   "metadata": {},
   "outputs": [],
   "source": []
  }
 ],
 "metadata": {
  "kernelspec": {
   "display_name": "Python 3 (ipykernel)",
   "language": "python",
   "name": "python3"
  },
  "language_info": {
   "codemirror_mode": {
    "name": "ipython",
    "version": 3
   },
   "file_extension": ".py",
   "mimetype": "text/x-python",
   "name": "python",
   "nbconvert_exporter": "python",
   "pygments_lexer": "ipython3",
   "version": "3.13.3"
  }
 },
 "nbformat": 4,
 "nbformat_minor": 5
}
