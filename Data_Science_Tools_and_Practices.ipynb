{
 "cells": [
  {
   "cell_type": "markdown",
   "id": "17b4c70e-3120-4e16-9156-f9a63b09fcc7",
   "metadata": {},
   "source": [
    "## Introduction  \n",
    "This notebook presents a summary of essential concepts, tools, and languages used in Data Science. It includes practical examples of arithmetic operations and simple Python code. The notebook also demonstrates how to use Markdown and Code cells in a structured and informative way."
   ]
  },
  {
   "cell_type": "markdown",
   "id": "d308ebd0-23d9-4624-94b7-abd437778180",
   "metadata": {},
   "source": [
    "## Popular Languages Used in Data Science  \n",
    "Some of the popular languages that Data Scientists use are:  \n",
    "\n",
    "1. Python  \n",
    "2. R  \n",
    "3. SQL  \n",
    "4. Julia  \n",
    "5. Scala"
   ]
  },
  {
   "cell_type": "markdown",
   "id": "4c2e697a-8ca8-4e4a-95a1-007fd24d5df9",
   "metadata": {},
   "source": [
    "## Popular Data Science Libraries  \n",
    "\n",
    "- **Pandas** – For data manipulation and analysis  \n",
    "- **NumPy** – For numerical computations  \n",
    "- **Matplotlib** – For data visualization  \n",
    "- **Scikit-learn** – For machine learning  \n",
    "- **TensorFlow** – For deep learning\n"
   ]
  },
  {
   "cell_type": "markdown",
   "id": "fb018d3c-8574-4eef-a21d-0d1487401162",
   "metadata": {},
   "source": [
    "## Data Science Tools\n",
    "\n",
    "| Tool              | Description                        |\n",
    "|-------------------|------------------------------------|\n",
    "| Jupyter Notebook  | Interactive coding and reporting   |\n",
    "| RStudio           | IDE for R programming              |\n",
    "| VS Code           | Lightweight code editor            |\n",
    "| Apache Spark      | Big data processing                |\n",
    "| Tableau           | Data visualization tool            |\n"
   ]
  },
  {
   "cell_type": "markdown",
   "id": "ba243af2-4b20-4179-8b0b-f4b84876f381",
   "metadata": {},
   "source": [
    "## Introduction to Arithmetic Expressions  \n",
    "In this section, we will explore examples of basic arithmetic expressions like addition, subtraction, multiplication, and division using Python.\n"
   ]
  },
  {
   "cell_type": "code",
   "execution_count": 2,
   "id": "c426a19c-aaa6-4889-9655-2bc010afdaab",
   "metadata": {},
   "outputs": [
    {
     "name": "stdout",
     "output_type": "stream",
     "text": [
      "The result of (5 * 3) + 2 is: 17\n"
     ]
    }
   ],
   "source": [
    "# Multiplication and addition\n",
    "a = 5\n",
    "b = 3\n",
    "result = (a * b) + 2\n",
    "print(\"The result of (5 * 3) + 2 is:\", result)\n",
    "\n"
   ]
  },
  {
   "cell_type": "code",
   "execution_count": 3,
   "id": "86d3ce05-2ea9-4986-906b-695a83dfa52c",
   "metadata": {},
   "outputs": [
    {
     "name": "stdout",
     "output_type": "stream",
     "text": [
      "150 minutes is equal to 2.5 hours\n"
     ]
    }
   ],
   "source": [
    "# Convert minutes to hours\n",
    "minutes = 150\n",
    "hours = minutes / 60\n",
    "print(f\"{minutes} minutes is equal to {hours} hours\")\n"
   ]
  },
  {
   "cell_type": "markdown",
   "id": "30469927-49dd-4fb3-9844-073e3270cd59",
   "metadata": {},
   "source": [
    "## Objectives  \n",
    "- Understand popular programming languages used in data science  \n",
    "- Identify key data science libraries and tools  \n",
    "- Practice arithmetic expressions using Python  \n",
    "- Gain experience using Markdown and Code cells  \n",
    "- Share notebook on GitHub\n"
   ]
  },
  {
   "cell_type": "markdown",
   "id": "e71a7516-5943-4767-969f-151348555498",
   "metadata": {},
   "source": [
    "## Author  \n",
    "Swarnalipi Sahu\n"
   ]
  },
  {
   "cell_type": "code",
   "execution_count": null,
   "id": "440d4366-5b5d-44ba-9a41-4411c8d0933e",
   "metadata": {},
   "outputs": [],
   "source": []
  }
 ],
 "metadata": {
  "kernelspec": {
   "display_name": "Python 3 (ipykernel)",
   "language": "python",
   "name": "python3"
  },
  "language_info": {
   "codemirror_mode": {
    "name": "ipython",
    "version": 3
   },
   "file_extension": ".py",
   "mimetype": "text/x-python",
   "name": "python",
   "nbconvert_exporter": "python",
   "pygments_lexer": "ipython3",
   "version": "3.13.3"
  }
 },
 "nbformat": 4,
 "nbformat_minor": 5
}
